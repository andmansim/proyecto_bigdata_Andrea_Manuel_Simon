{
  "nbformat": 4,
  "nbformat_minor": 0,
  "metadata": {
    "colab": {
      "provenance": [],
      "authorship_tag": "ABX9TyO9ZG2g4qNfrmfu7gXCRTIz",
      "include_colab_link": true
    },
    "kernelspec": {
      "name": "python3",
      "display_name": "Python 3"
    },
    "language_info": {
      "name": "python"
    }
  },
  "cells": [
    {
      "cell_type": "markdown",
      "metadata": {
        "id": "view-in-github",
        "colab_type": "text"
      },
      "source": [
        "<a href=\"https://colab.research.google.com/github/andmansim/proyecto_bigdata_Andrea_Manuel_Simon/blob/main/parte3.ipynb\" target=\"_parent\"><img src=\"https://colab.research.google.com/assets/colab-badge.svg\" alt=\"Open In Colab\"/></a>"
      ]
    },
    {
      "cell_type": "code",
      "execution_count": 1,
      "metadata": {
        "colab": {
          "base_uri": "https://localhost:8080/"
        },
        "id": "bXFNXQXYqhia",
        "outputId": "c372aada-5f0c-495b-c1ca-be0a79a4ee5e"
      },
      "outputs": [
        {
          "output_type": "stream",
          "name": "stdout",
          "text": [
            "hi\n"
          ]
        }
      ],
      "source": [
        "print('hi')\n",
        "#el csv se elimina cada vez que cerramos esto"
      ]
    },
    {
      "cell_type": "code",
      "source": [],
      "metadata": {
        "id": "zom753KgrZTx"
      },
      "execution_count": null,
      "outputs": []
    },
    {
      "cell_type": "markdown",
      "source": [
        "from pyspark.sql.functions import sum_distinct\n",
        "df.select(sum_distinct(\"Units\"), sum_distinct(\"Revenue\")).show()\n",
        "#Si nos interesa obtener información estadística sobre los datos, también disponemos de las funciones skewness, kurtosis, variance, var_pop, stddev y stddev_pop.\n"
      ],
      "metadata": {
        "id": "Q4SKzD-3vRSn"
      }
    },
    {
      "cell_type": "markdown",
      "source": [],
      "metadata": {
        "id": "z0GGyxMvvKG_"
      }
    },
    {
      "cell_type": "markdown",
      "source": [
        "Solo se puede usa Python y Spark. \n",
        "1. Calcular la media y la desviación estándar de cada elemento del conjunto. Conclusiones.\n",
        "2. Análisis de correlación, resultado en la matriz. Para esto tenemos que configurar las características o columnas(no datos nulos, que tengan sentido y q sean string o agrupamos algunos para que lo sean). Escoger 10 elementos más importates y argumentar los resultados, conclusiones.\n",
        "3. Luego seleccionaremos uno de los algoritmos que hemos visto durante el curso y\n",
        "explicaremos las razones de nuestra elección. Aplicaremos ese algoritmo con los\n",
        "argumentos y valores que consideremos, y explicaremos los resultados obtenidos. Es\n",
        "posible que tengamos que cambiar los tipos de alguna columna"
      ],
      "metadata": {
        "id": "Twv3ot2EraWU"
      }
    }
  ]
}