{
  "nbformat": 4,
  "nbformat_minor": 0,
  "metadata": {
    "colab": {
      "provenance": [],
      "authorship_tag": "ABX9TyOXqWATp/h2JKxkoajYQPCZ",
      "include_colab_link": true
    },
    "kernelspec": {
      "name": "python3",
      "display_name": "Python 3"
    },
    "language_info": {
      "name": "python"
    }
  },
  "cells": [
    {
      "cell_type": "markdown",
      "metadata": {
        "id": "view-in-github",
        "colab_type": "text"
      },
      "source": [
        "<a href=\"https://colab.research.google.com/github/andmansim/proyecto_bigdata_Andrea_Manuel_Simon/blob/main/Untitled0.ipynb\" target=\"_parent\"><img src=\"https://colab.research.google.com/assets/colab-badge.svg\" alt=\"Open In Colab\"/></a>"
      ]
    },
    {
      "cell_type": "code",
      "execution_count": 54,
      "metadata": {
        "id": "5CHKm2FfZis_"
      },
      "outputs": [],
      "source": [
        "import dask.dataframe as dd\n",
        "import os "
      ]
    },
    {
      "cell_type": "code",
      "source": [
        "df = dd.read_csv(os.path.join('air_traffic_data1.csv'))\n",
        "df.head()"
      ],
      "metadata": {
        "colab": {
          "base_uri": "https://localhost:8080/",
          "height": 426
        },
        "id": "EUz-lLFyZsJZ",
        "outputId": "727b35b7-f49a-4216-ca68-e3366f1b5c39"
      },
      "execution_count": 76,
      "outputs": [
        {
          "output_type": "execute_result",
          "data": {
            "text/plain": [
              "   Activity Period Operating Airline Operating Airline IATA Code  \\\n",
              "0           200507      ATA Airlines                          TZ   \n",
              "1           200507      ATA Airlines                          TZ   \n",
              "2           200507      ATA Airlines                          TZ   \n",
              "3           200507       Air Canada                           AC   \n",
              "4           200507       Air Canada                           AC   \n",
              "\n",
              "  Published Airline Published Airline IATA Code    GEO Summary GEO Region  \\\n",
              "0      ATA Airlines                          TZ       Domestic         US   \n",
              "1      ATA Airlines                          TZ       Domestic         US   \n",
              "2      ATA Airlines                          TZ       Domestic         US   \n",
              "3       Air Canada                           AC  International     Canada   \n",
              "4       Air Canada                           AC  International     Canada   \n",
              "\n",
              "  Activity Type Code Price Category Code    Terminal Boarding Area  \\\n",
              "0           Deplaned            Low Fare  Terminal 1             B   \n",
              "1           Enplaned            Low Fare  Terminal 1             B   \n",
              "2     Thru / Transit            Low Fare  Terminal 1             B   \n",
              "3           Deplaned               Other  Terminal 1             B   \n",
              "4           Enplaned               Other  Terminal 1             B   \n",
              "\n",
              "   Passenger Count Adjusted Activity Type Code  Adjusted Passenger Count  \\\n",
              "0            27271                    Deplaned                     27271   \n",
              "1            29131                    Enplaned                     29131   \n",
              "2             5415          Thru / Transit * 2                     10830   \n",
              "3            35156                    Deplaned                     35156   \n",
              "4            34090                    Enplaned                     34090   \n",
              "\n",
              "   Year Month  \n",
              "0  2005  July  \n",
              "1  2005  July  \n",
              "2  2005  July  \n",
              "3  2005  July  \n",
              "4  2005  July  "
            ],
            "text/html": [
              "\n",
              "  <div id=\"df-588c8f68-5f65-4cab-83b5-f43d68742a03\">\n",
              "    <div class=\"colab-df-container\">\n",
              "      <div>\n",
              "<style scoped>\n",
              "    .dataframe tbody tr th:only-of-type {\n",
              "        vertical-align: middle;\n",
              "    }\n",
              "\n",
              "    .dataframe tbody tr th {\n",
              "        vertical-align: top;\n",
              "    }\n",
              "\n",
              "    .dataframe thead th {\n",
              "        text-align: right;\n",
              "    }\n",
              "</style>\n",
              "<table border=\"1\" class=\"dataframe\">\n",
              "  <thead>\n",
              "    <tr style=\"text-align: right;\">\n",
              "      <th></th>\n",
              "      <th>Activity Period</th>\n",
              "      <th>Operating Airline</th>\n",
              "      <th>Operating Airline IATA Code</th>\n",
              "      <th>Published Airline</th>\n",
              "      <th>Published Airline IATA Code</th>\n",
              "      <th>GEO Summary</th>\n",
              "      <th>GEO Region</th>\n",
              "      <th>Activity Type Code</th>\n",
              "      <th>Price Category Code</th>\n",
              "      <th>Terminal</th>\n",
              "      <th>Boarding Area</th>\n",
              "      <th>Passenger Count</th>\n",
              "      <th>Adjusted Activity Type Code</th>\n",
              "      <th>Adjusted Passenger Count</th>\n",
              "      <th>Year</th>\n",
              "      <th>Month</th>\n",
              "    </tr>\n",
              "  </thead>\n",
              "  <tbody>\n",
              "    <tr>\n",
              "      <th>0</th>\n",
              "      <td>200507</td>\n",
              "      <td>ATA Airlines</td>\n",
              "      <td>TZ</td>\n",
              "      <td>ATA Airlines</td>\n",
              "      <td>TZ</td>\n",
              "      <td>Domestic</td>\n",
              "      <td>US</td>\n",
              "      <td>Deplaned</td>\n",
              "      <td>Low Fare</td>\n",
              "      <td>Terminal 1</td>\n",
              "      <td>B</td>\n",
              "      <td>27271</td>\n",
              "      <td>Deplaned</td>\n",
              "      <td>27271</td>\n",
              "      <td>2005</td>\n",
              "      <td>July</td>\n",
              "    </tr>\n",
              "    <tr>\n",
              "      <th>1</th>\n",
              "      <td>200507</td>\n",
              "      <td>ATA Airlines</td>\n",
              "      <td>TZ</td>\n",
              "      <td>ATA Airlines</td>\n",
              "      <td>TZ</td>\n",
              "      <td>Domestic</td>\n",
              "      <td>US</td>\n",
              "      <td>Enplaned</td>\n",
              "      <td>Low Fare</td>\n",
              "      <td>Terminal 1</td>\n",
              "      <td>B</td>\n",
              "      <td>29131</td>\n",
              "      <td>Enplaned</td>\n",
              "      <td>29131</td>\n",
              "      <td>2005</td>\n",
              "      <td>July</td>\n",
              "    </tr>\n",
              "    <tr>\n",
              "      <th>2</th>\n",
              "      <td>200507</td>\n",
              "      <td>ATA Airlines</td>\n",
              "      <td>TZ</td>\n",
              "      <td>ATA Airlines</td>\n",
              "      <td>TZ</td>\n",
              "      <td>Domestic</td>\n",
              "      <td>US</td>\n",
              "      <td>Thru / Transit</td>\n",
              "      <td>Low Fare</td>\n",
              "      <td>Terminal 1</td>\n",
              "      <td>B</td>\n",
              "      <td>5415</td>\n",
              "      <td>Thru / Transit * 2</td>\n",
              "      <td>10830</td>\n",
              "      <td>2005</td>\n",
              "      <td>July</td>\n",
              "    </tr>\n",
              "    <tr>\n",
              "      <th>3</th>\n",
              "      <td>200507</td>\n",
              "      <td>Air Canada</td>\n",
              "      <td>AC</td>\n",
              "      <td>Air Canada</td>\n",
              "      <td>AC</td>\n",
              "      <td>International</td>\n",
              "      <td>Canada</td>\n",
              "      <td>Deplaned</td>\n",
              "      <td>Other</td>\n",
              "      <td>Terminal 1</td>\n",
              "      <td>B</td>\n",
              "      <td>35156</td>\n",
              "      <td>Deplaned</td>\n",
              "      <td>35156</td>\n",
              "      <td>2005</td>\n",
              "      <td>July</td>\n",
              "    </tr>\n",
              "    <tr>\n",
              "      <th>4</th>\n",
              "      <td>200507</td>\n",
              "      <td>Air Canada</td>\n",
              "      <td>AC</td>\n",
              "      <td>Air Canada</td>\n",
              "      <td>AC</td>\n",
              "      <td>International</td>\n",
              "      <td>Canada</td>\n",
              "      <td>Enplaned</td>\n",
              "      <td>Other</td>\n",
              "      <td>Terminal 1</td>\n",
              "      <td>B</td>\n",
              "      <td>34090</td>\n",
              "      <td>Enplaned</td>\n",
              "      <td>34090</td>\n",
              "      <td>2005</td>\n",
              "      <td>July</td>\n",
              "    </tr>\n",
              "  </tbody>\n",
              "</table>\n",
              "</div>\n",
              "      <button class=\"colab-df-convert\" onclick=\"convertToInteractive('df-588c8f68-5f65-4cab-83b5-f43d68742a03')\"\n",
              "              title=\"Convert this dataframe to an interactive table.\"\n",
              "              style=\"display:none;\">\n",
              "        \n",
              "  <svg xmlns=\"http://www.w3.org/2000/svg\" height=\"24px\"viewBox=\"0 0 24 24\"\n",
              "       width=\"24px\">\n",
              "    <path d=\"M0 0h24v24H0V0z\" fill=\"none\"/>\n",
              "    <path d=\"M18.56 5.44l.94 2.06.94-2.06 2.06-.94-2.06-.94-.94-2.06-.94 2.06-2.06.94zm-11 1L8.5 8.5l.94-2.06 2.06-.94-2.06-.94L8.5 2.5l-.94 2.06-2.06.94zm10 10l.94 2.06.94-2.06 2.06-.94-2.06-.94-.94-2.06-.94 2.06-2.06.94z\"/><path d=\"M17.41 7.96l-1.37-1.37c-.4-.4-.92-.59-1.43-.59-.52 0-1.04.2-1.43.59L10.3 9.45l-7.72 7.72c-.78.78-.78 2.05 0 2.83L4 21.41c.39.39.9.59 1.41.59.51 0 1.02-.2 1.41-.59l7.78-7.78 2.81-2.81c.8-.78.8-2.07 0-2.86zM5.41 20L4 18.59l7.72-7.72 1.47 1.35L5.41 20z\"/>\n",
              "  </svg>\n",
              "      </button>\n",
              "      \n",
              "  <style>\n",
              "    .colab-df-container {\n",
              "      display:flex;\n",
              "      flex-wrap:wrap;\n",
              "      gap: 12px;\n",
              "    }\n",
              "\n",
              "    .colab-df-convert {\n",
              "      background-color: #E8F0FE;\n",
              "      border: none;\n",
              "      border-radius: 50%;\n",
              "      cursor: pointer;\n",
              "      display: none;\n",
              "      fill: #1967D2;\n",
              "      height: 32px;\n",
              "      padding: 0 0 0 0;\n",
              "      width: 32px;\n",
              "    }\n",
              "\n",
              "    .colab-df-convert:hover {\n",
              "      background-color: #E2EBFA;\n",
              "      box-shadow: 0px 1px 2px rgba(60, 64, 67, 0.3), 0px 1px 3px 1px rgba(60, 64, 67, 0.15);\n",
              "      fill: #174EA6;\n",
              "    }\n",
              "\n",
              "    [theme=dark] .colab-df-convert {\n",
              "      background-color: #3B4455;\n",
              "      fill: #D2E3FC;\n",
              "    }\n",
              "\n",
              "    [theme=dark] .colab-df-convert:hover {\n",
              "      background-color: #434B5C;\n",
              "      box-shadow: 0px 1px 3px 1px rgba(0, 0, 0, 0.15);\n",
              "      filter: drop-shadow(0px 1px 2px rgba(0, 0, 0, 0.3));\n",
              "      fill: #FFFFFF;\n",
              "    }\n",
              "  </style>\n",
              "\n",
              "      <script>\n",
              "        const buttonEl =\n",
              "          document.querySelector('#df-588c8f68-5f65-4cab-83b5-f43d68742a03 button.colab-df-convert');\n",
              "        buttonEl.style.display =\n",
              "          google.colab.kernel.accessAllowed ? 'block' : 'none';\n",
              "\n",
              "        async function convertToInteractive(key) {\n",
              "          const element = document.querySelector('#df-588c8f68-5f65-4cab-83b5-f43d68742a03');\n",
              "          const dataTable =\n",
              "            await google.colab.kernel.invokeFunction('convertToInteractive',\n",
              "                                                     [key], {});\n",
              "          if (!dataTable) return;\n",
              "\n",
              "          const docLinkHtml = 'Like what you see? Visit the ' +\n",
              "            '<a target=\"_blank\" href=https://colab.research.google.com/notebooks/data_table.ipynb>data table notebook</a>'\n",
              "            + ' to learn more about interactive tables.';\n",
              "          element.innerHTML = '';\n",
              "          dataTable['output_type'] = 'display_data';\n",
              "          await google.colab.output.renderOutput(dataTable, element);\n",
              "          const docLink = document.createElement('div');\n",
              "          docLink.innerHTML = docLinkHtml;\n",
              "          element.appendChild(docLink);\n",
              "        }\n",
              "      </script>\n",
              "    </div>\n",
              "  </div>\n",
              "  "
            ]
          },
          "metadata": {},
          "execution_count": 76
        }
      ]
    },
    {
      "cell_type": "code",
      "source": [
        "#¿Cuántas compañías diferentes aparecen en el fichero?\n",
        "\n",
        "a = df.groupby('Published Airline IATA Code').count().compute()\n",
        "company =list(a.index)\n",
        "print(f'Hay {len(company)} compañias')\n"
      ],
      "metadata": {
        "colab": {
          "base_uri": "https://localhost:8080/"
        },
        "id": "cdAeP72UbRmR",
        "outputId": "e56ab145-4dc5-4d10-cc3a-3db6cdb7e932"
      },
      "execution_count": 56,
      "outputs": [
        {
          "output_type": "stream",
          "name": "stdout",
          "text": [
            "Hay 64 compañias\n"
          ]
        }
      ]
    },
    {
      "cell_type": "code",
      "source": [
        "#¿Cuántos pasajeros tienen de media los vuelos de cada compañía?\n",
        "b = df.groupby('Published Airline IATA Code').mean().compute()\n",
        "media_pasajeros = list( b['Passenger Count'])\n",
        "print(media_pasajeros)"
      ],
      "metadata": {
        "id": "aWNyYzTxbf8n",
        "colab": {
          "base_uri": "https://localhost:8080/"
        },
        "outputId": "05efb752-cfad-4aeb-f266-41e6d974b6f8"
      },
      "execution_count": 115,
      "outputs": [
        {
          "output_type": "stream",
          "name": "stdout",
          "text": [
            "[312.625, 34.0, 4280.3125, 5.0, 84724.34855769231, 2320.75, 17589.973684210527, 11589.077519379845, 2834.5, 5463.822222222222, 14615.757481940145, 35261.13963963964, 17625.124031007752, 689.3333333333334, 13116.356589147286, 6618.335907335907, 9857.51550387597, 3418.0714285714284, 17121.325581395347, 4321.4375, 6391.3, 38657.06600249066, 4407.183673469388, 9070.866666666667, 6476.088235294118, 2.0, 17787.676923076924, 2799.7, 10569.238938053097, 1516.8125, 107.375, 8282.186046511628, 6470.332046332046, 5678.461240310077, 9221.813953488372, 19301.96511627907, 2786.011111111111, 6061.640287769784, 5498.402777777777, 7993.806451612903, 6385.523255813953, 2921.0416666666665, 26109.25, 7452.339768339768, 5902.961240310077, 10248.635658914729, 4991.2164179104475, 2452.5, 2223.1612903225805, 5865.847222222223, 14746.647286821706, 3992.652, 5066.197674418605, 8162.416666666667, 8744.636363636364, 54259.515724946694, 42251.48648648649, 9847.10465116279, 74405.35359116022, 81188.15857605178, 261.6666666666667, 5338.155339805825, 73.0, 3883.0]\n"
          ]
        }
      ]
    },
    {
      "cell_type": "code",
      "source": [
        "for i in df['Passenger Count']:\n",
        "  if i == 12973:\n",
        "    print(df['Passenger Count'].loc(i))"
      ],
      "metadata": {
        "colab": {
          "base_uri": "https://localhost:8080/",
          "height": 201
        },
        "id": "hWhPwFstY_KE",
        "outputId": "5e1f6945-20c5-4285-cd67-76275d11ffaa"
      },
      "execution_count": 110,
      "outputs": [
        {
          "output_type": "error",
          "ename": "TypeError",
          "evalue": "ignored",
          "traceback": [
            "\u001b[0;31m---------------------------------------------------------------------------\u001b[0m",
            "\u001b[0;31mTypeError\u001b[0m                                 Traceback (most recent call last)",
            "\u001b[0;32m<ipython-input-110-75b9f20d6e2a>\u001b[0m in \u001b[0;36m<cell line: 1>\u001b[0;34m()\u001b[0m\n\u001b[1;32m      1\u001b[0m \u001b[0;32mfor\u001b[0m \u001b[0mi\u001b[0m \u001b[0;32min\u001b[0m \u001b[0mdf\u001b[0m\u001b[0;34m[\u001b[0m\u001b[0;34m'Passenger Count'\u001b[0m\u001b[0;34m]\u001b[0m\u001b[0;34m:\u001b[0m\u001b[0;34m\u001b[0m\u001b[0;34m\u001b[0m\u001b[0m\n\u001b[1;32m      2\u001b[0m   \u001b[0;32mif\u001b[0m \u001b[0mi\u001b[0m \u001b[0;34m==\u001b[0m \u001b[0;36m12973\u001b[0m\u001b[0;34m:\u001b[0m\u001b[0;34m\u001b[0m\u001b[0;34m\u001b[0m\u001b[0m\n\u001b[0;32m----> 3\u001b[0;31m     \u001b[0mprint\u001b[0m\u001b[0;34m(\u001b[0m\u001b[0mdf\u001b[0m\u001b[0;34m[\u001b[0m\u001b[0;34m'Passenger Count'\u001b[0m\u001b[0;34m]\u001b[0m\u001b[0;34m.\u001b[0m\u001b[0mloc\u001b[0m\u001b[0;34m(\u001b[0m\u001b[0mi\u001b[0m\u001b[0;34m)\u001b[0m\u001b[0;34m)\u001b[0m\u001b[0;34m\u001b[0m\u001b[0;34m\u001b[0m\u001b[0m\n\u001b[0m",
            "\u001b[0;31mTypeError\u001b[0m: '_LocIndexer' object is not callable"
          ]
        }
      ]
    },
    {
      "cell_type": "code",
      "source": [
        "#Eliminaremos los registros duplicados por el campo “GEO Región”, manteniendo únicamente aquel con mayor número de pasajeros.\n",
        "df1 = df.copy()\n",
        "c = df.groupby('GEO Region')['Passenger Count'].max().compute()\n",
        "l = list(c)\n",
        "l1 = list(c.index)\n",
        "\n",
        "lista =[]\n",
        "for i in range(len(l)):\n",
        "  lista.append([l1[i], l[1]])\n",
        "print(lista)\n",
        "borrar = []\n",
        "u = 0\n",
        "for i in range (len(df['Passenger Count'])):\n",
        "  if df['Passenger Count'].iloc[i] in l:\n",
        "    borrar.append(i)\n",
        " \n",
        "\n",
        "\n",
        "'''  u = u+1\n",
        "  for j in range(len(l)):\n",
        "      if df['Passenger Count'] != l[j]:\n",
        "        borrar.append(u)'''\n",
        "print(borrar)\n",
        "'''for i in range(c):\n",
        "  lista.append([c.iloc[i].index,  c.iloc[i]])\n",
        "borrar = list([c])\n",
        "df1 = df.copy()\n",
        "df = c\n",
        "print(df)\n",
        "print(borrar[0])'''\n"
      ],
      "metadata": {
        "id": "0peVl5QbbiRJ",
        "colab": {
          "base_uri": "https://localhost:8080/",
          "height": 273
        },
        "outputId": "6a0b76c3-9e43-443a-81c6-fec5b74122f1"
      },
      "execution_count": 95,
      "outputs": [
        {
          "output_type": "stream",
          "name": "stdout",
          "text": [
            "[['Asia', 12973], ['Australia / Oceania', 12973], ['Canada', 12973], ['Central America', 12973], ['Europe', 12973], ['Mexico', 12973], ['Middle East', 12973], ['South America', 12973], ['US', 12973]]\n"
          ]
        },
        {
          "output_type": "error",
          "ename": "AttributeError",
          "evalue": "ignored",
          "traceback": [
            "\u001b[0;31m---------------------------------------------------------------------------\u001b[0m",
            "\u001b[0;31mAttributeError\u001b[0m                            Traceback (most recent call last)",
            "\u001b[0;32m<ipython-input-95-f68689ac4e39>\u001b[0m in \u001b[0;36m<cell line: 13>\u001b[0;34m()\u001b[0m\n\u001b[1;32m     13\u001b[0m \u001b[0;32mfor\u001b[0m \u001b[0mi\u001b[0m \u001b[0;32min\u001b[0m \u001b[0mdf\u001b[0m\u001b[0;34m[\u001b[0m\u001b[0;34m'Passenger Count'\u001b[0m\u001b[0;34m]\u001b[0m\u001b[0;34m:\u001b[0m\u001b[0;34m\u001b[0m\u001b[0;34m\u001b[0m\u001b[0m\n\u001b[1;32m     14\u001b[0m   \u001b[0;32mif\u001b[0m \u001b[0mi\u001b[0m \u001b[0;32min\u001b[0m \u001b[0ml\u001b[0m\u001b[0;34m:\u001b[0m\u001b[0;34m\u001b[0m\u001b[0;34m\u001b[0m\u001b[0m\n\u001b[0;32m---> 15\u001b[0;31m     \u001b[0mborrar\u001b[0m\u001b[0;34m.\u001b[0m\u001b[0mappend\u001b[0m\u001b[0;34m(\u001b[0m\u001b[0mi\u001b[0m\u001b[0;34m.\u001b[0m\u001b[0mindex\u001b[0m\u001b[0;34m)\u001b[0m\u001b[0;34m\u001b[0m\u001b[0;34m\u001b[0m\u001b[0m\n\u001b[0m\u001b[1;32m     16\u001b[0m \u001b[0;34m\u001b[0m\u001b[0m\n\u001b[1;32m     17\u001b[0m \u001b[0;34m\u001b[0m\u001b[0m\n",
            "\u001b[0;31mAttributeError\u001b[0m: 'int' object has no attribute 'index'"
          ]
        }
      ]
    },
    {
      "cell_type": "code",
      "source": [
        "#Volcaremos los resultados de los dos puntos anteriores a un CSV.\n"
      ],
      "metadata": {
        "id": "nDlIsocbbjfk"
      },
      "execution_count": 116,
      "outputs": []
    }
  ]
}