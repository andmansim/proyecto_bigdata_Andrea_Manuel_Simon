{
  "nbformat": 4,
  "nbformat_minor": 0,
  "metadata": {
    "colab": {
      "provenance": [],
      "authorship_tag": "ABX9TyMwW/TmcOEGHwDUKSIl52mv",
      "include_colab_link": true
    },
    "kernelspec": {
      "name": "python3",
      "display_name": "Python 3"
    },
    "language_info": {
      "name": "python"
    }
  },
  "cells": [
    {
      "cell_type": "markdown",
      "metadata": {
        "id": "view-in-github",
        "colab_type": "text"
      },
      "source": [
        "<a href=\"https://colab.research.google.com/github/andmansim/proyecto_bigdata_Andrea_Manuel_Simon/blob/main/Untitled1.ipynb\" target=\"_parent\"><img src=\"https://colab.research.google.com/assets/colab-badge.svg\" alt=\"Open In Colab\"/></a>"
      ]
    },
    {
      "cell_type": "code",
      "execution_count": null,
      "metadata": {
        "id": "NX3scenUNuby"
      },
      "outputs": [],
      "source": [
        "'''\n",
        "\n",
        "calcular la media y la desviación estándar de cada elemento del conjunto de\n",
        "datos. Los resultados obtenidos deben ir acompañados de unas conclusiones las cuales\n",
        "estarán basadas en los datos mostrados y podrán contener una parte subjetiva en cuanto a\n",
        "interpretación de los mismos.\n",
        "Una vez esto haremos un análisis de la correlación cuyo resultado debe ser una matriz de\n",
        "correlación de datos que represente de qué manera están relacionadas las diferentes\n",
        "variables. Para llevar a cabo la matriz de correlación, es necesario que configuremos las\n",
        "características o columnas con los tipos necesarios y así poder realizar su cálculo. Estas\n",
        "transformaciones tendremos que reflejarlas en el documento final. No es necesario\n",
        "comentar cada uno de los cruces de relaciones de datos, pero si tendrás que escoger los 10\n",
        "elementos más importantes y argumentar los resultados obtenidos. Estas conclusiones\n",
        "tendrán que estar basadas en los datos mostrados y pueden contener una parte subjetiva\n",
        "en cuanto a interpretación de los mismos\n",
        "\n",
        "'''"
      ]
    },
    {
      "cell_type": "code",
      "source": [
        "import dask.dataframe as dd\n",
        "import os "
      ],
      "metadata": {
        "id": "RDF0M9-FOgex"
      },
      "execution_count": null,
      "outputs": []
    },
    {
      "cell_type": "code",
      "source": [
        "#Del nuevo csv q hemos creado en el 2\n",
        "df = dd.read_csv(os.path.join(''))\n",
        "df.head()"
      ],
      "metadata": {
        "id": "_T5TjnZJOi2B"
      },
      "execution_count": null,
      "outputs": []
    }
  ]
}