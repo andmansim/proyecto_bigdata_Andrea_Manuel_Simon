{
  "nbformat": 4,
  "nbformat_minor": 0,
  "metadata": {
    "colab": {
      "provenance": [],
      "authorship_tag": "ABX9TyMEKkmKQPAiy+BzIIIg3U0V",
      "include_colab_link": true
    },
    "kernelspec": {
      "name": "python3",
      "display_name": "Python 3"
    },
    "language_info": {
      "name": "python"
    }
  },
  "cells": [
    {
      "cell_type": "markdown",
      "metadata": {
        "id": "view-in-github",
        "colab_type": "text"
      },
      "source": [
        "<a href=\"https://colab.research.google.com/github/andmansim/proyecto_bigdata_Andrea_Manuel_Simon/blob/main/Untitled1.ipynb\" target=\"_parent\"><img src=\"https://colab.research.google.com/assets/colab-badge.svg\" alt=\"Open In Colab\"/></a>"
      ]
    },
    {
      "cell_type": "code",
      "execution_count": null,
      "metadata": {
        "id": "NX3scenUNuby"
      },
      "outputs": [],
      "source": [
        "'''\n",
        "\n",
        "calcular la media y la desviación estándar de cada elemento del conjunto de\n",
        "datos. Los resultados obtenidos deben ir acompañados de unas conclusiones las cuales\n",
        "estarán basadas en los datos mostrados y podrán contener una parte subjetiva en cuanto a\n",
        "interpretación de los mismos.\n",
        "Una vez esto haremos un análisis de la correlación cuyo resultado debe ser una matriz de\n",
        "correlación de datos que represente de qué manera están relacionadas las diferentes\n",
        "variables. Para llevar a cabo la matriz de correlación, es necesario que configuremos las\n",
        "características o columnas con los tipos necesarios y así poder realizar su cálculo. Estas\n",
        "transformaciones tendremos que reflejarlas en el documento final. No es necesario\n",
        "comentar cada uno de los cruces de relaciones de datos, pero si tendrás que escoger los 10\n",
        "elementos más importantes y argumentar los resultados obtenidos. Estas conclusiones\n",
        "tendrán que estar basadas en los datos mostrados y pueden contener una parte subjetiva\n",
        "en cuanto a interpretación de los mismos\n",
        "\n",
        "'''"
      ]
    },
    {
      "cell_type": "code",
      "source": [
        "import dask.dataframe as dd\n",
        "import os \n",
        "import warnings \n",
        "\n",
        "warnings.filterwarnings('ignore')"
      ],
      "metadata": {
        "id": "RDF0M9-FOgex"
      },
      "execution_count": 31,
      "outputs": []
    },
    {
      "cell_type": "code",
      "source": [
        "\n",
        "df = dd.read_csv(os.path.join('air_traffic_data1.csv')).compute()\n",
        "df.head()"
      ],
      "metadata": {
        "id": "_T5TjnZJOi2B",
        "colab": {
          "base_uri": "https://localhost:8080/",
          "height": 426
        },
        "outputId": "5299fc81-1d6a-4498-bdaf-2b069dcbbd09"
      },
      "execution_count": 32,
      "outputs": [
        {
          "output_type": "execute_result",
          "data": {
            "text/plain": [
              "   Activity Period Operating Airline Operating Airline IATA Code  \\\n",
              "0           200507      ATA Airlines                          TZ   \n",
              "1           200507      ATA Airlines                          TZ   \n",
              "2           200507      ATA Airlines                          TZ   \n",
              "3           200507       Air Canada                           AC   \n",
              "4           200507       Air Canada                           AC   \n",
              "\n",
              "  Published Airline Published Airline IATA Code    GEO Summary GEO Region  \\\n",
              "0      ATA Airlines                          TZ       Domestic         US   \n",
              "1      ATA Airlines                          TZ       Domestic         US   \n",
              "2      ATA Airlines                          TZ       Domestic         US   \n",
              "3       Air Canada                           AC  International     Canada   \n",
              "4       Air Canada                           AC  International     Canada   \n",
              "\n",
              "  Activity Type Code Price Category Code    Terminal Boarding Area  \\\n",
              "0           Deplaned            Low Fare  Terminal 1             B   \n",
              "1           Enplaned            Low Fare  Terminal 1             B   \n",
              "2     Thru / Transit            Low Fare  Terminal 1             B   \n",
              "3           Deplaned               Other  Terminal 1             B   \n",
              "4           Enplaned               Other  Terminal 1             B   \n",
              "\n",
              "   Passenger Count Adjusted Activity Type Code  Adjusted Passenger Count  \\\n",
              "0            27271                    Deplaned                     27271   \n",
              "1            29131                    Enplaned                     29131   \n",
              "2             5415          Thru / Transit * 2                     10830   \n",
              "3            35156                    Deplaned                     35156   \n",
              "4            34090                    Enplaned                     34090   \n",
              "\n",
              "   Year Month  \n",
              "0  2005  July  \n",
              "1  2005  July  \n",
              "2  2005  July  \n",
              "3  2005  July  \n",
              "4  2005  July  "
            ],
            "text/html": [
              "\n",
              "  <div id=\"df-9428d4e9-7f88-4241-9785-d34e35ec6977\">\n",
              "    <div class=\"colab-df-container\">\n",
              "      <div>\n",
              "<style scoped>\n",
              "    .dataframe tbody tr th:only-of-type {\n",
              "        vertical-align: middle;\n",
              "    }\n",
              "\n",
              "    .dataframe tbody tr th {\n",
              "        vertical-align: top;\n",
              "    }\n",
              "\n",
              "    .dataframe thead th {\n",
              "        text-align: right;\n",
              "    }\n",
              "</style>\n",
              "<table border=\"1\" class=\"dataframe\">\n",
              "  <thead>\n",
              "    <tr style=\"text-align: right;\">\n",
              "      <th></th>\n",
              "      <th>Activity Period</th>\n",
              "      <th>Operating Airline</th>\n",
              "      <th>Operating Airline IATA Code</th>\n",
              "      <th>Published Airline</th>\n",
              "      <th>Published Airline IATA Code</th>\n",
              "      <th>GEO Summary</th>\n",
              "      <th>GEO Region</th>\n",
              "      <th>Activity Type Code</th>\n",
              "      <th>Price Category Code</th>\n",
              "      <th>Terminal</th>\n",
              "      <th>Boarding Area</th>\n",
              "      <th>Passenger Count</th>\n",
              "      <th>Adjusted Activity Type Code</th>\n",
              "      <th>Adjusted Passenger Count</th>\n",
              "      <th>Year</th>\n",
              "      <th>Month</th>\n",
              "    </tr>\n",
              "  </thead>\n",
              "  <tbody>\n",
              "    <tr>\n",
              "      <th>0</th>\n",
              "      <td>200507</td>\n",
              "      <td>ATA Airlines</td>\n",
              "      <td>TZ</td>\n",
              "      <td>ATA Airlines</td>\n",
              "      <td>TZ</td>\n",
              "      <td>Domestic</td>\n",
              "      <td>US</td>\n",
              "      <td>Deplaned</td>\n",
              "      <td>Low Fare</td>\n",
              "      <td>Terminal 1</td>\n",
              "      <td>B</td>\n",
              "      <td>27271</td>\n",
              "      <td>Deplaned</td>\n",
              "      <td>27271</td>\n",
              "      <td>2005</td>\n",
              "      <td>July</td>\n",
              "    </tr>\n",
              "    <tr>\n",
              "      <th>1</th>\n",
              "      <td>200507</td>\n",
              "      <td>ATA Airlines</td>\n",
              "      <td>TZ</td>\n",
              "      <td>ATA Airlines</td>\n",
              "      <td>TZ</td>\n",
              "      <td>Domestic</td>\n",
              "      <td>US</td>\n",
              "      <td>Enplaned</td>\n",
              "      <td>Low Fare</td>\n",
              "      <td>Terminal 1</td>\n",
              "      <td>B</td>\n",
              "      <td>29131</td>\n",
              "      <td>Enplaned</td>\n",
              "      <td>29131</td>\n",
              "      <td>2005</td>\n",
              "      <td>July</td>\n",
              "    </tr>\n",
              "    <tr>\n",
              "      <th>2</th>\n",
              "      <td>200507</td>\n",
              "      <td>ATA Airlines</td>\n",
              "      <td>TZ</td>\n",
              "      <td>ATA Airlines</td>\n",
              "      <td>TZ</td>\n",
              "      <td>Domestic</td>\n",
              "      <td>US</td>\n",
              "      <td>Thru / Transit</td>\n",
              "      <td>Low Fare</td>\n",
              "      <td>Terminal 1</td>\n",
              "      <td>B</td>\n",
              "      <td>5415</td>\n",
              "      <td>Thru / Transit * 2</td>\n",
              "      <td>10830</td>\n",
              "      <td>2005</td>\n",
              "      <td>July</td>\n",
              "    </tr>\n",
              "    <tr>\n",
              "      <th>3</th>\n",
              "      <td>200507</td>\n",
              "      <td>Air Canada</td>\n",
              "      <td>AC</td>\n",
              "      <td>Air Canada</td>\n",
              "      <td>AC</td>\n",
              "      <td>International</td>\n",
              "      <td>Canada</td>\n",
              "      <td>Deplaned</td>\n",
              "      <td>Other</td>\n",
              "      <td>Terminal 1</td>\n",
              "      <td>B</td>\n",
              "      <td>35156</td>\n",
              "      <td>Deplaned</td>\n",
              "      <td>35156</td>\n",
              "      <td>2005</td>\n",
              "      <td>July</td>\n",
              "    </tr>\n",
              "    <tr>\n",
              "      <th>4</th>\n",
              "      <td>200507</td>\n",
              "      <td>Air Canada</td>\n",
              "      <td>AC</td>\n",
              "      <td>Air Canada</td>\n",
              "      <td>AC</td>\n",
              "      <td>International</td>\n",
              "      <td>Canada</td>\n",
              "      <td>Enplaned</td>\n",
              "      <td>Other</td>\n",
              "      <td>Terminal 1</td>\n",
              "      <td>B</td>\n",
              "      <td>34090</td>\n",
              "      <td>Enplaned</td>\n",
              "      <td>34090</td>\n",
              "      <td>2005</td>\n",
              "      <td>July</td>\n",
              "    </tr>\n",
              "  </tbody>\n",
              "</table>\n",
              "</div>\n",
              "      <button class=\"colab-df-convert\" onclick=\"convertToInteractive('df-9428d4e9-7f88-4241-9785-d34e35ec6977')\"\n",
              "              title=\"Convert this dataframe to an interactive table.\"\n",
              "              style=\"display:none;\">\n",
              "        \n",
              "  <svg xmlns=\"http://www.w3.org/2000/svg\" height=\"24px\"viewBox=\"0 0 24 24\"\n",
              "       width=\"24px\">\n",
              "    <path d=\"M0 0h24v24H0V0z\" fill=\"none\"/>\n",
              "    <path d=\"M18.56 5.44l.94 2.06.94-2.06 2.06-.94-2.06-.94-.94-2.06-.94 2.06-2.06.94zm-11 1L8.5 8.5l.94-2.06 2.06-.94-2.06-.94L8.5 2.5l-.94 2.06-2.06.94zm10 10l.94 2.06.94-2.06 2.06-.94-2.06-.94-.94-2.06-.94 2.06-2.06.94z\"/><path d=\"M17.41 7.96l-1.37-1.37c-.4-.4-.92-.59-1.43-.59-.52 0-1.04.2-1.43.59L10.3 9.45l-7.72 7.72c-.78.78-.78 2.05 0 2.83L4 21.41c.39.39.9.59 1.41.59.51 0 1.02-.2 1.41-.59l7.78-7.78 2.81-2.81c.8-.78.8-2.07 0-2.86zM5.41 20L4 18.59l7.72-7.72 1.47 1.35L5.41 20z\"/>\n",
              "  </svg>\n",
              "      </button>\n",
              "      \n",
              "  <style>\n",
              "    .colab-df-container {\n",
              "      display:flex;\n",
              "      flex-wrap:wrap;\n",
              "      gap: 12px;\n",
              "    }\n",
              "\n",
              "    .colab-df-convert {\n",
              "      background-color: #E8F0FE;\n",
              "      border: none;\n",
              "      border-radius: 50%;\n",
              "      cursor: pointer;\n",
              "      display: none;\n",
              "      fill: #1967D2;\n",
              "      height: 32px;\n",
              "      padding: 0 0 0 0;\n",
              "      width: 32px;\n",
              "    }\n",
              "\n",
              "    .colab-df-convert:hover {\n",
              "      background-color: #E2EBFA;\n",
              "      box-shadow: 0px 1px 2px rgba(60, 64, 67, 0.3), 0px 1px 3px 1px rgba(60, 64, 67, 0.15);\n",
              "      fill: #174EA6;\n",
              "    }\n",
              "\n",
              "    [theme=dark] .colab-df-convert {\n",
              "      background-color: #3B4455;\n",
              "      fill: #D2E3FC;\n",
              "    }\n",
              "\n",
              "    [theme=dark] .colab-df-convert:hover {\n",
              "      background-color: #434B5C;\n",
              "      box-shadow: 0px 1px 3px 1px rgba(0, 0, 0, 0.15);\n",
              "      filter: drop-shadow(0px 1px 2px rgba(0, 0, 0, 0.3));\n",
              "      fill: #FFFFFF;\n",
              "    }\n",
              "  </style>\n",
              "\n",
              "      <script>\n",
              "        const buttonEl =\n",
              "          document.querySelector('#df-9428d4e9-7f88-4241-9785-d34e35ec6977 button.colab-df-convert');\n",
              "        buttonEl.style.display =\n",
              "          google.colab.kernel.accessAllowed ? 'block' : 'none';\n",
              "\n",
              "        async function convertToInteractive(key) {\n",
              "          const element = document.querySelector('#df-9428d4e9-7f88-4241-9785-d34e35ec6977');\n",
              "          const dataTable =\n",
              "            await google.colab.kernel.invokeFunction('convertToInteractive',\n",
              "                                                     [key], {});\n",
              "          if (!dataTable) return;\n",
              "\n",
              "          const docLinkHtml = 'Like what you see? Visit the ' +\n",
              "            '<a target=\"_blank\" href=https://colab.research.google.com/notebooks/data_table.ipynb>data table notebook</a>'\n",
              "            + ' to learn more about interactive tables.';\n",
              "          element.innerHTML = '';\n",
              "          dataTable['output_type'] = 'display_data';\n",
              "          await google.colab.output.renderOutput(dataTable, element);\n",
              "          const docLink = document.createElement('div');\n",
              "          docLink.innerHTML = docLinkHtml;\n",
              "          element.appendChild(docLink);\n",
              "        }\n",
              "      </script>\n",
              "    </div>\n",
              "  </div>\n",
              "  "
            ]
          },
          "metadata": {},
          "execution_count": 32
        }
      ]
    },
    {
      "cell_type": "code",
      "source": [
        "df.info()"
      ],
      "metadata": {
        "colab": {
          "base_uri": "https://localhost:8080/"
        },
        "id": "-HaAWG_8SUZm",
        "outputId": "91e34b50-4a56-4ee7-cec0-0cc4eaed2b12"
      },
      "execution_count": 33,
      "outputs": [
        {
          "output_type": "stream",
          "name": "stdout",
          "text": [
            "<class 'pandas.core.frame.DataFrame'>\n",
            "RangeIndex: 15007 entries, 0 to 15006\n",
            "Data columns (total 16 columns):\n",
            " #   Column                       Non-Null Count  Dtype \n",
            "---  ------                       --------------  ----- \n",
            " 0   Activity Period              15007 non-null  int64 \n",
            " 1   Operating Airline            15007 non-null  object\n",
            " 2   Operating Airline IATA Code  14953 non-null  object\n",
            " 3   Published Airline            15007 non-null  object\n",
            " 4   Published Airline IATA Code  14953 non-null  object\n",
            " 5   GEO Summary                  15007 non-null  object\n",
            " 6   GEO Region                   15007 non-null  object\n",
            " 7   Activity Type Code           15007 non-null  object\n",
            " 8   Price Category Code          15007 non-null  object\n",
            " 9   Terminal                     15007 non-null  object\n",
            " 10  Boarding Area                15007 non-null  object\n",
            " 11  Passenger Count              15007 non-null  int64 \n",
            " 12  Adjusted Activity Type Code  15007 non-null  object\n",
            " 13  Adjusted Passenger Count     15007 non-null  int64 \n",
            " 14  Year                         15007 non-null  int64 \n",
            " 15  Month                        15007 non-null  object\n",
            "dtypes: int64(4), object(12)\n",
            "memory usage: 1.8+ MB\n"
          ]
        }
      ]
    },
    {
      "cell_type": "code",
      "source": [
        "def val_unicos(dato):\n",
        "  a = df[dato].unique()\n",
        "  print(dato, df[dato].unique())\n",
        "  return a\n",
        "ba =val_unicos('Boarding Area')\n",
        "pcc = val_unicos('Price Category Code')\n",
        "atc =val_unicos('Activity Type Code')\n",
        "t = val_unicos('Terminal')\n",
        "gs = val_unicos('GEO Summary')\n",
        "aatc = val_unicos('Adjusted Activity Type Code')\n"
      ],
      "metadata": {
        "colab": {
          "base_uri": "https://localhost:8080/"
        },
        "id": "eOAuVXGIVD6q",
        "outputId": "97a37c2b-bf1e-44ff-d78c-49ca5215f7f6"
      },
      "execution_count": 34,
      "outputs": [
        {
          "output_type": "stream",
          "name": "stdout",
          "text": [
            "Boarding Area ['B' 'G' 'A' 'E' 'C' 'F' 'Other' 'D']\n",
            "Price Category Code ['Low Fare' 'Other']\n",
            "Activity Type Code ['Deplaned' 'Enplaned' 'Thru / Transit']\n",
            "Terminal ['Terminal 1' 'International' 'Terminal 3' 'Other' 'Terminal 2']\n",
            "GEO Summary ['Domestic' 'International']\n",
            "Adjusted Activity Type Code ['Deplaned' 'Enplaned' 'Thru / Transit * 2']\n"
          ]
        }
      ]
    },
    {
      "cell_type": "code",
      "source": [
        "#Vamos a pasar algunos datos str a int\n",
        "#price Category Code: 0 = low, 1 = other\n",
        "#Geo Summary: 0 = Domestic, 1 = International\n",
        "#Adjusted Activity Type Code: 0 = deplaned, 1 = Enplaned, 2 = Thru/Transit * 2\n",
        "#Terminal: 0 = International, 1 =Terminal 1, 2 = Terminal 2, 3 = Terminal 3, 4 = Other\n",
        "\n",
        "def cambio(a, b, c, d, e, dato):\n",
        "  for i in range(len(df)):\n",
        "    if df[dato][i] == a:\n",
        "      df[dato][i] = 0\n",
        "    elif df[dato][i] == b:\n",
        "      df[dato][i] = 1\n",
        "    elif df[dato][i] == c:\n",
        "      df[dato][i] = 2\n",
        "    elif df[dato][i] == d:\n",
        "      df[dato][i] = 3\n",
        "    elif df[dato][i] == e:\n",
        "      df[dato][i] = 4\n",
        "  df[dato] =df[dato].astype(int)\n",
        "cambio(pcc[0], pcc[1], None, None,None, 'Price Category Code')\n",
        "cambio(gs[0], gs[1],None, None, None, 'GEO Summary')\n",
        "cambio(aatc[0], aatc[1], aatc[2], None, None,'Adjusted Activity Type Code')\n",
        "cambio(t[0], t[1], t[2], t[3], t[4], 'Terminal')\n",
        "\n",
        "print(df.head())\n"
      ],
      "metadata": {
        "colab": {
          "base_uri": "https://localhost:8080/"
        },
        "id": "9qxq4t5WWuhQ",
        "outputId": "42db7ee9-aee7-4304-b8c5-01a7c88c703f"
      },
      "execution_count": 41,
      "outputs": [
        {
          "output_type": "stream",
          "name": "stdout",
          "text": [
            "   Activity Period Operating Airline Operating Airline IATA Code  \\\n",
            "0           200507      ATA Airlines                          TZ   \n",
            "1           200507      ATA Airlines                          TZ   \n",
            "2           200507      ATA Airlines                          TZ   \n",
            "3           200507       Air Canada                           AC   \n",
            "4           200507       Air Canada                           AC   \n",
            "\n",
            "  Published Airline Published Airline IATA Code  GEO Summary GEO Region  \\\n",
            "0      ATA Airlines                          TZ            0         US   \n",
            "1      ATA Airlines                          TZ            0         US   \n",
            "2      ATA Airlines                          TZ            0         US   \n",
            "3       Air Canada                           AC            1     Canada   \n",
            "4       Air Canada                           AC            1     Canada   \n",
            "\n",
            "  Activity Type Code  Price Category Code  Terminal Boarding Area  \\\n",
            "0           Deplaned                    0         0             B   \n",
            "1           Enplaned                    0         0             B   \n",
            "2     Thru / Transit                    0         0             B   \n",
            "3           Deplaned                    1         0             B   \n",
            "4           Enplaned                    1         0             B   \n",
            "\n",
            "   Passenger Count  Adjusted Activity Type Code  Adjusted Passenger Count  \\\n",
            "0            27271                            0                     27271   \n",
            "1            29131                            1                     29131   \n",
            "2             5415                            2                     10830   \n",
            "3            35156                            0                     35156   \n",
            "4            34090                            1                     34090   \n",
            "\n",
            "   Year Month  \n",
            "0  2005  July  \n",
            "1  2005  July  \n",
            "2  2005  July  \n",
            "3  2005  July  \n",
            "4  2005  July  \n"
          ]
        }
      ]
    },
    {
      "cell_type": "code",
      "source": [
        "df.info()"
      ],
      "metadata": {
        "id": "czR4yuFhblLW",
        "outputId": "82461419-8ac9-45e0-f198-6071661f1e11",
        "colab": {
          "base_uri": "https://localhost:8080/"
        }
      },
      "execution_count": 42,
      "outputs": [
        {
          "output_type": "stream",
          "name": "stdout",
          "text": [
            "<class 'pandas.core.frame.DataFrame'>\n",
            "RangeIndex: 15007 entries, 0 to 15006\n",
            "Data columns (total 16 columns):\n",
            " #   Column                       Non-Null Count  Dtype \n",
            "---  ------                       --------------  ----- \n",
            " 0   Activity Period              15007 non-null  int64 \n",
            " 1   Operating Airline            15007 non-null  object\n",
            " 2   Operating Airline IATA Code  14953 non-null  object\n",
            " 3   Published Airline            15007 non-null  object\n",
            " 4   Published Airline IATA Code  14953 non-null  object\n",
            " 5   GEO Summary                  15007 non-null  int64 \n",
            " 6   GEO Region                   15007 non-null  object\n",
            " 7   Activity Type Code           15007 non-null  object\n",
            " 8   Price Category Code          15007 non-null  int64 \n",
            " 9   Terminal                     15007 non-null  int64 \n",
            " 10  Boarding Area                15007 non-null  object\n",
            " 11  Passenger Count              15007 non-null  int64 \n",
            " 12  Adjusted Activity Type Code  15007 non-null  int64 \n",
            " 13  Adjusted Passenger Count     15007 non-null  int64 \n",
            " 14  Year                         15007 non-null  int64 \n",
            " 15  Month                        15007 non-null  object\n",
            "dtypes: int64(8), object(8)\n",
            "memory usage: 1.8+ MB\n"
          ]
        }
      ]
    },
    {
      "cell_type": "code",
      "source": [
        "#calcular la media y la desviación estándar\n",
        "df.mean()"
      ],
      "metadata": {
        "colab": {
          "base_uri": "https://localhost:8080/"
        },
        "id": "IYRXkQjkRp2u",
        "outputId": "9717bd81-8321-44a7-cd3d-40cb5263fac2"
      },
      "execution_count": 43,
      "outputs": [
        {
          "output_type": "execute_result",
          "data": {
            "text/plain": [
              "Activity Period                201045.073366\n",
              "GEO Summary                         0.613714\n",
              "Price Category Code                 0.872060\n",
              "Terminal                            1.000200\n",
              "Passenger Count                 29240.521090\n",
              "Adjusted Activity Type Code         0.590125\n",
              "Adjusted Passenger Count        29331.917105\n",
              "Year                             2010.385220\n",
              "dtype: float64"
            ]
          },
          "metadata": {},
          "execution_count": 43
        }
      ]
    },
    {
      "cell_type": "code",
      "source": [
        "#análisis de la correlación cuyo resultado debe ser una matriz de correlación de datos que represente \n",
        "#de qué manera están relacionadas las diferentes variables"
      ],
      "metadata": {
        "id": "i8nGfK2wRyZG"
      },
      "execution_count": null,
      "outputs": []
    },
    {
      "cell_type": "code",
      "source": [
        "#escoger los 10 elementos más importantes y argumentar los resultados obtenidos"
      ],
      "metadata": {
        "id": "RJdy_UagSBPu"
      },
      "execution_count": null,
      "outputs": []
    }
  ]
}